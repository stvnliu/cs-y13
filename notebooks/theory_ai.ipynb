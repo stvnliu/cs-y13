{
 "cells": [
  {
   "cell_type": "markdown",
   "metadata": {},
   "source": [
    "# Artificial intelligence\n",
    "\n",
    "## Catelogires\n",
    "- Narrow AI - when a machine has superior performance to a human when doing one specific task.\n",
    "- General AI is when a machine is similar in its performance to a human in any intellectual task.\n",
    "- Strong AI is when a machine is superior to humans in any intellectual task.\n",
    "\n",
    "## Machine learning\n",
    "A subset of AI\n",
    "\n",
    "### Supervised Learning\n",
    "uses regression and classification analysis\n",
    "- requires input and output\n",
    "- uses labelled data\n",
    "- receive set of inputs and correct outputs to permit learning process\n",
    "- once trained, the model is run using labelled data (to refine / reinforce)\n",
    "- results compared with expected output.\n",
    "- model is run with unlabelled data"
   ]
  }
 ],
 "metadata": {
  "language_info": {
   "name": "python"
  }
 },
 "nbformat": 4,
 "nbformat_minor": 2
}
