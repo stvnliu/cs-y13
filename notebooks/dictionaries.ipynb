{
 "cells": [
  {
   "cell_type": "code",
   "execution_count": 1,
   "metadata": {},
   "outputs": [
    {
     "name": "stdout",
     "output_type": "stream",
     "text": [
      "0\n",
      "{'Kim Jong Un': 69, 'Kim Il-Sung': 150, 'Skibidi Rizzler': 66}\n"
     ]
    }
   ],
   "source": [
    "# Activity 19P\n",
    "\n",
    "TEST_CLASS_EXAM_DATA = {\n",
    "    \"Justin\": 0,\n",
    "    \"Kim Jong Un\": 69,\n",
    "    \"Kim Il-Sung\": 150,\n",
    "}\n",
    "\n",
    "print(TEST_CLASS_EXAM_DATA[\"Justin\"])\n",
    "\n",
    "TEST_CLASS_EXAM_DATA[\"Skibidi Rizzler\"] = 66\n",
    "\n",
    "del TEST_CLASS_EXAM_DATA[\"Justin\"]\n",
    "\n",
    "print(TEST_CLASS_EXAM_DATA)\n"
   ]
  }
 ],
 "metadata": {
  "kernelspec": {
   "display_name": ".venv",
   "language": "python",
   "name": "python3"
  },
  "language_info": {
   "codemirror_mode": {
    "name": "ipython",
    "version": 3
   },
   "file_extension": ".py",
   "mimetype": "text/x-python",
   "name": "python",
   "nbconvert_exporter": "python",
   "pygments_lexer": "ipython3",
   "version": "3.12.7"
  }
 },
 "nbformat": 4,
 "nbformat_minor": 2
}
