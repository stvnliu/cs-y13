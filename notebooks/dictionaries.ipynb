{
 "cells": [
  {
   "cell_type": "code",
   "execution_count": null,
   "metadata": {},
   "outputs": [],
   "source": [
    "# Activity 19P\n",
    "\n",
    "TEST_CLASS_EXAM_DATA = {\n",
    "    \"Justin\": 0,\n",
    "    \"Kim Jong Un\": 69,\n",
    "    \"Kim Il-Sung\": 150,\n",
    "}\n",
    "\n",
    "print(TEST_CLASS_EXAM_DATA[\"Justin\"])\n",
    "\n",
    "TEST_CLASS_EXAM_DATA[\"Skibidi Rizzler\"] = 66\n",
    "\n",
    "del TEST_CLASS_EXAM_DATA[\"Justin\"]\n",
    "\n",
    "print(TEST_CLASS_EXAM_DATA)\n"
   ]
  }
 ],
 "metadata": {
  "kernelspec": {
   "display_name": ".venv",
   "language": "python",
   "name": "python3"
  },
  "language_info": {
   "name": "python",
   "version": "3.12.8"
  }
 },
 "nbformat": 4,
 "nbformat_minor": 2
}
