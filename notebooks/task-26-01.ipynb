{
 "cells": [
  {
   "cell_type": "markdown",
   "metadata": {},
   "source": [
    "# TASK 26.01"
   ]
  },
  {
   "cell_type": "code",
   "execution_count": 1,
   "metadata": {},
   "outputs": [
    {
     "name": "stdout",
     "output_type": "stream",
     "text": [
      "ID2996890787\n",
      "ID3824901074\n",
      "ID8883477888\n",
      "ID9677643029\n",
      "ID0287295091\n",
      "ID9004547036\n",
      "ID9428415184\n",
      "ID4374642368\n",
      "ID6644424020\n",
      "ID2679820436\n",
      "ID1942174827\n",
      "ID1827901259\n",
      "ID5512491508\n",
      "ID2584067604\n",
      "ID9178220410\n",
      "ID9942527181\n",
      "ID5052380858\n",
      "ID1140649108\n",
      "ID5953495714\n",
      "ID8444763908\n",
      "ID0746152327\n",
      "ID0000948024\n",
      "ID3610067329\n",
      "ID5364263515\n",
      "ID3212081710\n",
      "ID2104841410\n",
      "ID5808840246\n",
      "ID2592172608\n",
      "ID3289546497\n",
      "ID7080264907\n",
      "ID9756903478\n",
      "ID1356078597\n",
      "ID2304443990\n",
      "ID0368110356\n",
      "ID9750701462\n",
      "ID8995330350\n",
      "ID8512539255\n",
      "ID8592750163\n",
      "ID9072999574\n",
      "ID7587847884\n"
     ]
    }
   ],
   "source": [
    "import datetime\n",
    "import pickle\n",
    "import random # data generator\n",
    "class Car:\n",
    "    def __init__(self, car_id):\n",
    "        self.VehicleID = car_id\n",
    "        self.__Registration = \"\"\n",
    "        self.__Date = datetime.datetime.now()\n",
    "        self.__EngineSize = -1\n",
    "        self.__PurchasePrice = 5900_00\n",
    "def data_generator():\n",
    "    cars = []\n",
    "    for i in range(40):\n",
    "        s = \"ID\"\n",
    "        for i in range(10):\n",
    "            s += str(random.randint(0, 9))\n",
    "        cars.append(Car(s))\n",
    "    return cars\n",
    "with open(\"cars.dat\", 'wb+') as carfile:\n",
    "    for car in data_generator():\n",
    "        print(car.VehicleID)\n",
    "        pickle.dump(car, carfile)"
   ]
  }
 ],
 "metadata": {
  "kernelspec": {
   "display_name": ".venv",
   "language": "python",
   "name": "python3"
  },
  "language_info": {
   "codemirror_mode": {
    "name": "ipython",
    "version": 3
   },
   "file_extension": ".py",
   "mimetype": "text/x-python",
   "name": "python",
   "nbconvert_exporter": "python",
   "pygments_lexer": "ipython3",
   "version": "3.12.7"
  }
 },
 "nbformat": 4,
 "nbformat_minor": 2
}
