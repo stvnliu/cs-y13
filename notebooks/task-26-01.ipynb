{
 "cells": [
  {
   "cell_type": "markdown",
   "metadata": {},
   "source": [
    "# TASK 26.01"
   ]
  },
  {
   "cell_type": "code",
   "execution_count": null,
   "metadata": {},
   "outputs": [],
   "source": [
    "import datetime\n",
    "import pickle\n",
    "import random # data generator\n",
    "class Car:\n",
    "    def __init__(self, car_id):\n",
    "        self.VehicleID = car_id\n",
    "        self.__Registration = \"\"\n",
    "        self.__Date = datetime.datetime.now()\n",
    "        self.__EngineSize = -1\n",
    "        self.__PurchasePrice = 5900_00\n",
    "def data_generator():\n",
    "    cars = []\n",
    "    for i in range(40):\n",
    "        s = \"ID\"\n",
    "        for i in range(10):\n",
    "            s += str(random.randint(0, 9))\n",
    "        cars.append(Car(s))\n",
    "    return cars\n",
    "with open(\"cars.dat\", 'wb+') as carfile:\n",
    "    for car in data_generator():\n",
    "        print(car.VehicleID)\n",
    "        pickle.dump(car, carfile)"
   ]
  }
 ],
 "metadata": {
  "kernelspec": {
   "display_name": ".venv",
   "language": "python",
   "name": "python3"
  },
  "language_info": {
   "codemirror_mode": {
    "name": "ipython",
    "version": 3
   },
   "file_extension": ".py",
   "mimetype": "text/x-python",
   "name": "python",
   "nbconvert_exporter": "python",
   "pygments_lexer": "ipython3",
   "version": "3.12.7"
  }
 },
 "nbformat": 4,
 "nbformat_minor": 2
}
